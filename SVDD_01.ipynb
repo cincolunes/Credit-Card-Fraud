{
  "cells": [
    {
      "cell_type": "code",
      "execution_count": 2,
      "metadata": {
        "id": "pQHkurFVEWsp"
      },
      "outputs": [],
      "source": [
        "from sklearn.model_selection import GridSearchCV\n",
        "import numpy as np\n",
        "import pandas as pd\n",
        "from lightgbm import LGBMClassifier\n",
        "import warnings\n",
        "warnings.filterwarnings('ignore')\n",
        "from sklearn.impute import KNNImputer\n",
        "from sklearn.ensemble import RandomForestClassifier\n",
        "from sklearn.metrics import accuracy_score\n",
        "from sklearn.model_selection import train_test_split\n",
        "from xgboost import plot_importance\n",
        "from xgboost import XGBClassifier\n",
        "from sklearn.metrics import roc_auc_score\n",
        "import warnings\n",
        "warnings.filterwarnings(action='ignore')\n",
        "\n",
        "from sklearn.decomposition import PCA\n",
        "from sklearn.datasets import make_blobs\n",
        "from sklearn.metrics import accuracy_score, f1_score, confusion_matrix, classification_report, precision_score, recall_score\n",
        "from sklearn.model_selection import train_test_split\n",
        "from sklearn.neighbors import LocalOutlierFactor\n",
        "\n",
        "from sklearn.preprocessing import StandardScaler\n",
        "import seaborn as sns \n",
        "import matplotlib.pyplot as plt \n",
        "import tensorflow as tf\n",
        "%matplotlib inline"
      ]
    },
    {
      "cell_type": "code",
      "execution_count": 3,
      "metadata": {
        "colab": {
          "base_uri": "https://localhost:8080/"
        },
        "id": "rkKeNgQWEulw",
        "outputId": "75b65640-8f4b-4f22-fa27-b2409bc43ca7"
      },
      "outputs": [],
      "source": [
        "# from google.colab import drive\n",
        "# drive.mount('/content/drive')"
      ]
    },
    {
      "cell_type": "code",
      "execution_count": 4,
      "metadata": {
        "id": "ZWRgwv3LGt0C"
      },
      "outputs": [],
      "source": [
        "from sklearn import svm"
      ]
    },
    {
      "cell_type": "code",
      "execution_count": 5,
      "metadata": {
        "colab": {
          "base_uri": "https://localhost:8080/",
          "height": 270
        },
        "id": "pZkrWwT_Eugi",
        "outputId": "08bb9f19-4358-47f1-955e-cbd9562a9a46"
      },
      "outputs": [
        {
          "data": {
            "text/html": [
              "<div>\n",
              "<style scoped>\n",
              "    .dataframe tbody tr th:only-of-type {\n",
              "        vertical-align: middle;\n",
              "    }\n",
              "\n",
              "    .dataframe tbody tr th {\n",
              "        vertical-align: top;\n",
              "    }\n",
              "\n",
              "    .dataframe thead th {\n",
              "        text-align: right;\n",
              "    }\n",
              "</style>\n",
              "<table border=\"1\" class=\"dataframe\">\n",
              "  <thead>\n",
              "    <tr style=\"text-align: right;\">\n",
              "      <th></th>\n",
              "      <th>distance_from_home</th>\n",
              "      <th>distance_from_last_transaction</th>\n",
              "      <th>ratio_to_median_purchase_price</th>\n",
              "      <th>repeat_retailer</th>\n",
              "      <th>used_chip</th>\n",
              "      <th>used_pin_number</th>\n",
              "      <th>online_order</th>\n",
              "      <th>fraud</th>\n",
              "    </tr>\n",
              "  </thead>\n",
              "  <tbody>\n",
              "    <tr>\n",
              "      <th>0</th>\n",
              "      <td>57.877857</td>\n",
              "      <td>0.311140</td>\n",
              "      <td>1.945940</td>\n",
              "      <td>1.0</td>\n",
              "      <td>1.0</td>\n",
              "      <td>0.0</td>\n",
              "      <td>0.0</td>\n",
              "      <td>0.0</td>\n",
              "    </tr>\n",
              "    <tr>\n",
              "      <th>1</th>\n",
              "      <td>10.829943</td>\n",
              "      <td>0.175592</td>\n",
              "      <td>1.294219</td>\n",
              "      <td>1.0</td>\n",
              "      <td>0.0</td>\n",
              "      <td>0.0</td>\n",
              "      <td>0.0</td>\n",
              "      <td>0.0</td>\n",
              "    </tr>\n",
              "    <tr>\n",
              "      <th>2</th>\n",
              "      <td>5.091079</td>\n",
              "      <td>0.805153</td>\n",
              "      <td>0.427715</td>\n",
              "      <td>1.0</td>\n",
              "      <td>0.0</td>\n",
              "      <td>0.0</td>\n",
              "      <td>1.0</td>\n",
              "      <td>0.0</td>\n",
              "    </tr>\n",
              "    <tr>\n",
              "      <th>3</th>\n",
              "      <td>2.247564</td>\n",
              "      <td>5.600044</td>\n",
              "      <td>0.362663</td>\n",
              "      <td>1.0</td>\n",
              "      <td>1.0</td>\n",
              "      <td>0.0</td>\n",
              "      <td>1.0</td>\n",
              "      <td>0.0</td>\n",
              "    </tr>\n",
              "    <tr>\n",
              "      <th>4</th>\n",
              "      <td>44.190936</td>\n",
              "      <td>0.566486</td>\n",
              "      <td>2.222767</td>\n",
              "      <td>1.0</td>\n",
              "      <td>1.0</td>\n",
              "      <td>0.0</td>\n",
              "      <td>1.0</td>\n",
              "      <td>0.0</td>\n",
              "    </tr>\n",
              "  </tbody>\n",
              "</table>\n",
              "</div>"
            ],
            "text/plain": [
              "   distance_from_home  distance_from_last_transaction  \\\n",
              "0           57.877857                        0.311140   \n",
              "1           10.829943                        0.175592   \n",
              "2            5.091079                        0.805153   \n",
              "3            2.247564                        5.600044   \n",
              "4           44.190936                        0.566486   \n",
              "\n",
              "   ratio_to_median_purchase_price  repeat_retailer  used_chip  \\\n",
              "0                        1.945940              1.0        1.0   \n",
              "1                        1.294219              1.0        0.0   \n",
              "2                        0.427715              1.0        0.0   \n",
              "3                        0.362663              1.0        1.0   \n",
              "4                        2.222767              1.0        1.0   \n",
              "\n",
              "   used_pin_number  online_order  fraud  \n",
              "0              0.0           0.0    0.0  \n",
              "1              0.0           0.0    0.0  \n",
              "2              0.0           1.0    0.0  \n",
              "3              0.0           1.0    0.0  \n",
              "4              0.0           1.0    0.0  "
            ]
          },
          "execution_count": 5,
          "metadata": {},
          "output_type": "execute_result"
        }
      ],
      "source": [
        "# df = pd.read_csv('/content/drive/MyDrive/card_transdata.csv')\n",
        "df = pd.read_csv('./archive/card_transdata.csv')\n",
        "df.head()"
      ]
    },
    {
      "cell_type": "code",
      "execution_count": 6,
      "metadata": {
        "colab": {
          "base_uri": "https://localhost:8080/"
        },
        "id": "rp3koXWaEud7",
        "outputId": "673bf983-7d3c-4c15-e0ab-9778197fb813"
      },
      "outputs": [
        {
          "name": "stdout",
          "output_type": "stream",
          "text": [
            "Index(['distance_from_home', 'distance_from_last_transaction',\n",
            "       'ratio_to_median_purchase_price', 'repeat_retailer', 'used_chip',\n",
            "       'used_pin_number', 'online_order', 'fraud'],\n",
            "      dtype='object')\n"
          ]
        }
      ],
      "source": [
        "print(df.keys())"
      ]
    },
    {
      "cell_type": "code",
      "execution_count": 7,
      "metadata": {
        "colab": {
          "base_uri": "https://localhost:8080/",
          "height": 633
        },
        "id": "Sp2NF9XpEubK",
        "outputId": "1fac674e-2043-4975-ac67-110f65f9e0cd"
      },
      "outputs": [
        {
          "name": "stdout",
          "output_type": "stream",
          "text": [
            "<class 'pandas.core.frame.DataFrame'>\n",
            "RangeIndex: 1000000 entries, 0 to 999999\n",
            "Data columns (total 8 columns):\n",
            " #   Column                          Non-Null Count    Dtype  \n",
            "---  ------                          --------------    -----  \n",
            " 0   distance_from_home              1000000 non-null  float64\n",
            " 1   distance_from_last_transaction  1000000 non-null  float64\n",
            " 2   ratio_to_median_purchase_price  1000000 non-null  float64\n",
            " 3   repeat_retailer                 1000000 non-null  float64\n",
            " 4   used_chip                       1000000 non-null  float64\n",
            " 5   used_pin_number                 1000000 non-null  float64\n",
            " 6   online_order                    1000000 non-null  float64\n",
            " 7   fraud                           1000000 non-null  float64\n",
            "dtypes: float64(8)\n",
            "memory usage: 61.0 MB\n"
          ]
        },
        {
          "data": {
            "text/html": [
              "<div>\n",
              "<style scoped>\n",
              "    .dataframe tbody tr th:only-of-type {\n",
              "        vertical-align: middle;\n",
              "    }\n",
              "\n",
              "    .dataframe tbody tr th {\n",
              "        vertical-align: top;\n",
              "    }\n",
              "\n",
              "    .dataframe thead th {\n",
              "        text-align: right;\n",
              "    }\n",
              "</style>\n",
              "<table border=\"1\" class=\"dataframe\">\n",
              "  <thead>\n",
              "    <tr style=\"text-align: right;\">\n",
              "      <th></th>\n",
              "      <th>distance_from_home</th>\n",
              "      <th>distance_from_last_transaction</th>\n",
              "      <th>ratio_to_median_purchase_price</th>\n",
              "      <th>repeat_retailer</th>\n",
              "      <th>used_chip</th>\n",
              "      <th>used_pin_number</th>\n",
              "      <th>online_order</th>\n",
              "      <th>fraud</th>\n",
              "    </tr>\n",
              "  </thead>\n",
              "  <tbody>\n",
              "    <tr>\n",
              "      <th>count</th>\n",
              "      <td>1000000.000000</td>\n",
              "      <td>1000000.000000</td>\n",
              "      <td>1000000.000000</td>\n",
              "      <td>1000000.000000</td>\n",
              "      <td>1000000.000000</td>\n",
              "      <td>1000000.000000</td>\n",
              "      <td>1000000.000000</td>\n",
              "      <td>1000000.000000</td>\n",
              "    </tr>\n",
              "    <tr>\n",
              "      <th>mean</th>\n",
              "      <td>26.628792</td>\n",
              "      <td>5.036519</td>\n",
              "      <td>1.824182</td>\n",
              "      <td>0.881536</td>\n",
              "      <td>0.350399</td>\n",
              "      <td>0.100608</td>\n",
              "      <td>0.650552</td>\n",
              "      <td>0.087403</td>\n",
              "    </tr>\n",
              "    <tr>\n",
              "      <th>std</th>\n",
              "      <td>65.390784</td>\n",
              "      <td>25.843093</td>\n",
              "      <td>2.799589</td>\n",
              "      <td>0.323157</td>\n",
              "      <td>0.477095</td>\n",
              "      <td>0.300809</td>\n",
              "      <td>0.476796</td>\n",
              "      <td>0.282425</td>\n",
              "    </tr>\n",
              "    <tr>\n",
              "      <th>min</th>\n",
              "      <td>0.004874</td>\n",
              "      <td>0.000118</td>\n",
              "      <td>0.004399</td>\n",
              "      <td>0.000000</td>\n",
              "      <td>0.000000</td>\n",
              "      <td>0.000000</td>\n",
              "      <td>0.000000</td>\n",
              "      <td>0.000000</td>\n",
              "    </tr>\n",
              "    <tr>\n",
              "      <th>25%</th>\n",
              "      <td>3.878008</td>\n",
              "      <td>0.296671</td>\n",
              "      <td>0.475673</td>\n",
              "      <td>1.000000</td>\n",
              "      <td>0.000000</td>\n",
              "      <td>0.000000</td>\n",
              "      <td>0.000000</td>\n",
              "      <td>0.000000</td>\n",
              "    </tr>\n",
              "    <tr>\n",
              "      <th>50%</th>\n",
              "      <td>9.967760</td>\n",
              "      <td>0.998650</td>\n",
              "      <td>0.997717</td>\n",
              "      <td>1.000000</td>\n",
              "      <td>0.000000</td>\n",
              "      <td>0.000000</td>\n",
              "      <td>1.000000</td>\n",
              "      <td>0.000000</td>\n",
              "    </tr>\n",
              "    <tr>\n",
              "      <th>75%</th>\n",
              "      <td>25.743985</td>\n",
              "      <td>3.355748</td>\n",
              "      <td>2.096370</td>\n",
              "      <td>1.000000</td>\n",
              "      <td>1.000000</td>\n",
              "      <td>0.000000</td>\n",
              "      <td>1.000000</td>\n",
              "      <td>0.000000</td>\n",
              "    </tr>\n",
              "    <tr>\n",
              "      <th>max</th>\n",
              "      <td>10632.723672</td>\n",
              "      <td>11851.104565</td>\n",
              "      <td>267.802942</td>\n",
              "      <td>1.000000</td>\n",
              "      <td>1.000000</td>\n",
              "      <td>1.000000</td>\n",
              "      <td>1.000000</td>\n",
              "      <td>1.000000</td>\n",
              "    </tr>\n",
              "  </tbody>\n",
              "</table>\n",
              "</div>"
            ],
            "text/plain": [
              "       distance_from_home  distance_from_last_transaction  \\\n",
              "count      1000000.000000                  1000000.000000   \n",
              "mean            26.628792                        5.036519   \n",
              "std             65.390784                       25.843093   \n",
              "min              0.004874                        0.000118   \n",
              "25%              3.878008                        0.296671   \n",
              "50%              9.967760                        0.998650   \n",
              "75%             25.743985                        3.355748   \n",
              "max          10632.723672                    11851.104565   \n",
              "\n",
              "       ratio_to_median_purchase_price  repeat_retailer       used_chip  \\\n",
              "count                  1000000.000000   1000000.000000  1000000.000000   \n",
              "mean                         1.824182         0.881536        0.350399   \n",
              "std                          2.799589         0.323157        0.477095   \n",
              "min                          0.004399         0.000000        0.000000   \n",
              "25%                          0.475673         1.000000        0.000000   \n",
              "50%                          0.997717         1.000000        0.000000   \n",
              "75%                          2.096370         1.000000        1.000000   \n",
              "max                        267.802942         1.000000        1.000000   \n",
              "\n",
              "       used_pin_number    online_order           fraud  \n",
              "count   1000000.000000  1000000.000000  1000000.000000  \n",
              "mean          0.100608        0.650552        0.087403  \n",
              "std           0.300809        0.476796        0.282425  \n",
              "min           0.000000        0.000000        0.000000  \n",
              "25%           0.000000        0.000000        0.000000  \n",
              "50%           0.000000        1.000000        0.000000  \n",
              "75%           0.000000        1.000000        0.000000  \n",
              "max           1.000000        1.000000        1.000000  "
            ]
          },
          "execution_count": 7,
          "metadata": {},
          "output_type": "execute_result"
        }
      ],
      "source": [
        "# Basic Information & Data Description\n",
        "df.info()\n",
        "df.describe()"
      ]
    },
    {
      "cell_type": "code",
      "execution_count": 8,
      "metadata": {
        "colab": {
          "base_uri": "https://localhost:8080/"
        },
        "id": "m4g2Rd8YEuYe",
        "outputId": "d6bfa862-407b-40c8-fba7-f20e198a2cf5"
      },
      "outputs": [
        {
          "data": {
            "text/plain": [
              "0"
            ]
          },
          "execution_count": 8,
          "metadata": {},
          "output_type": "execute_result"
        }
      ],
      "source": [
        "df['fraud'].isnull().sum()"
      ]
    },
    {
      "cell_type": "code",
      "execution_count": 9,
      "metadata": {
        "colab": {
          "base_uri": "https://localhost:8080/"
        },
        "id": "D4OR97-KEuVl",
        "outputId": "5137363e-9bb3-4f85-9809-aff8512db3ec"
      },
      "outputs": [
        {
          "data": {
            "text/plain": [
              "distance_from_home                float64\n",
              "distance_from_last_transaction    float64\n",
              "ratio_to_median_purchase_price    float64\n",
              "repeat_retailer                   float64\n",
              "used_chip                         float64\n",
              "used_pin_number                   float64\n",
              "online_order                      float64\n",
              "fraud                             float64\n",
              "dtype: object"
            ]
          },
          "execution_count": 9,
          "metadata": {},
          "output_type": "execute_result"
        }
      ],
      "source": [
        "# Check if any duplicated value exists. It turns out to be zero, and it means there's no duplicates.\n",
        "df.duplicated().sum()\n",
        "\n",
        "# Check if there's a null in the dataset. It also turns out to be zero, and it means there's no null on here. \n",
        "df.isnull().sum()\n",
        "\n",
        "# Type Check. All attributes is belonged to a float type  \n",
        "df.dtypes"
      ]
    },
    {
      "cell_type": "code",
      "execution_count": 10,
      "metadata": {
        "colab": {
          "base_uri": "https://localhost:8080/",
          "height": 438
        },
        "id": "q_ZOq_hXEuS7",
        "outputId": "34d6d1ad-8a98-4493-cf71-f79f5911b335"
      },
      "outputs": [
        {
          "data": {
            "text/plain": [
              "<AxesSubplot:>"
            ]
          },
          "execution_count": 10,
          "metadata": {},
          "output_type": "execute_result"
        },
        {
          "data": {
            "image/png": "[encoded data removed]",
            "text/plain": [
              "<Figure size 432x288 with 2 Axes>"
            ]
          },
          "metadata": {
            "needs_background": "light"
          },
          "output_type": "display_data"
        }
      ],
      "source": [
        "# Correlation Visualization \n",
        "sns.heatmap(df.corr())"
      ]
    },
    {
      "cell_type": "code",
      "execution_count": 11,
      "metadata": {
        "colab": {
          "base_uri": "https://localhost:8080/",
          "height": 171
        },
        "id": "btBiSDyQEuQI",
        "outputId": "b422928b-1811-4f5c-b5f5-9e49d93658aa"
      },
      "outputs": [
        {
          "data": {
            "image/png": "[encoded data removed]",
            "text/plain": [
              "<Figure size 720x144 with 1 Axes>"
            ]
          },
          "metadata": {
            "needs_background": "light"
          },
          "output_type": "display_data"
        }
      ],
      "source": [
        "plt.figure(figsize=(10, 2))\n",
        "fig = sns.countplot(y=df['fraud'],\n",
        "                    data=df, palette=[\"blue\", \"red\"])\n",
        "plt.show()"
      ]
    },
    {
      "cell_type": "code",
      "execution_count": 12,
      "metadata": {
        "colab": {
          "base_uri": "https://localhost:8080/"
        },
        "id": "MHCGELKhEuNS",
        "outputId": "b2e869ee-4eeb-4733-bafc-4f41879071e5"
      },
      "outputs": [
        {
          "name": "stdout",
          "output_type": "stream",
          "text": [
            "X: (1000000, 7)\n"
          ]
        }
      ],
      "source": [
        "# Differentiate \n",
        "X = df[df.columns.difference(['fraud'])]\n",
        "y = df[\"fraud\"]\n",
        "print('X:', X.shape)\n",
        "# Standardizing the features\n",
        "#X = StandardScaler().fit_transform(X)"
      ]
    },
    {
      "cell_type": "code",
      "execution_count": null,
      "metadata": {
        "colab": {
          "base_uri": "https://localhost:8080/"
        },
        "id": "dM8iUTBhhYzS",
        "outputId": "74e19092-dd3c-43e0-8c0e-af86369afa68"
      },
      "outputs": [],
      "source": []
    },
    {
      "cell_type": "code",
      "execution_count": 13,
      "metadata": {
        "id": "-ufzSL-iEuH4"
      },
      "outputs": [],
      "source": [
        "X = df[df.columns.difference(['fraud'])]\n",
        "y = df[\"fraud\"]"
      ]
    },
    {
      "cell_type": "code",
      "execution_count": 14,
      "metadata": {},
      "outputs": [],
      "source": [
        "# https://github.com/BaekKyunShin/Intro-to-Machine-Learning/blob/master/SVM/SVM.ipynb\n",
        "\n",
        "red_RGB = (1, 0, 0)\n",
        "blue_RGB = (0, 0, 1)\n",
        "data_colors = [red_RGB, blue_RGB]\n",
        "\n",
        "def read_points_file(filename):\n",
        "    points = []\n",
        "    with open(filename, \"r\") as f:\n",
        "        for point in f:\n",
        "            point = point.strip(\"\\n\").split()\n",
        "            points.append([float(point[0]), float(point[1])])\n",
        "    return points\n",
        "\n",
        "def read_data(class_0_file, class_1_file):\n",
        "    points_label0 = read_points_file(class_0_file)\n",
        "    points_label1 = read_points_file(class_1_file)\n",
        "    points = points_label0 + points_label1\n",
        "    points = np.array(points)\n",
        "    \n",
        "    label0, label1 = [0], [1]\n",
        "    num_of_label0, num_of_label1 = len(points_label0), len(points_label1)\n",
        "    labels = label0 * num_of_label0 + label1 * num_of_label1\n",
        "    \n",
        "    return (points, labels)\n",
        "\n",
        "\n",
        "def plot_data(X_train, y_train, X_test, y_test):\n",
        "  \n",
        "    X = np.concatenate((X_train, X_test))\n",
        "    y = np.concatenate((y_train, y_test))\n",
        "\n",
        "    colors = get_colors(y)\n",
        "    colors_train = get_colors(y_train)\n",
        "    colors_test = get_colors(y_test)\n",
        "\n",
        "    plt.figure(figsize=(12, 4), dpi=150)\n",
        "\n",
        "    # Plot all data plot\n",
        "    plt.subplot(131)\n",
        "    plt.axis('equal')\n",
        "    plt.scatter(X[:, 0], X[:, 1], c=colors, s=10, edgecolors=colors)\n",
        "    plt.title(\"Data (100%)\")\n",
        "\n",
        "\n",
        "    # training data plot\n",
        "    plt.subplot(132)\n",
        "    plt.axis('equal')\n",
        "    #plt.axis('off')\n",
        "    plt.scatter(X_train.iloc[:, 0], X_train.iloc[:, 1], c = colors_train, s = 10, edgecolors=colors_train)\n",
        "    plt.title(\"Training Data (80%)\")\n",
        "\n",
        "    # testing data plot\n",
        "    plt.subplot(133)\n",
        "    plt.axis('equal')\n",
        "    #plt.axis('off')\n",
        "    plt.scatter(X_test.iloc[:, 0], X_test.iloc[:, 1], c = colors_test, s = 10, edgecolors=colors_test)\n",
        "    plt.title(\"Test Data (20%)\")\n",
        "    plt.tight_layout()\n",
        "    plt.show()\n",
        "\n",
        "def get_colors(y):\n",
        "    return [data_colors[int(label)] for label in y]\n",
        "\n",
        "def plot_decision_function(X_train, y_train, X_test, y_test, clf):\n",
        "    plt.figure(figsize=(8, 4), dpi=150)\n",
        "    plt.subplot(121)\n",
        "    plt.title(\"Training data\")\n",
        "    plot_decision_function_helper(X_train, y_train, clf)\n",
        "    plt.subplot(122)\n",
        "    plt.title(\"Test data\")\n",
        "    plot_decision_function_helper(X_test, y_test, clf, True)\n",
        "    plt.show()\n",
        "\n",
        "\n",
        "def plot_decision_function_helper(X, y, clf, show_only_decision_function = False):\n",
        "    colors = get_colors(y)\n",
        "    plt.axis('equal')\n",
        "    plt.tight_layout()\n",
        "    #plt.axis('off') \n",
        "\n",
        "    plt.scatter(X.iloc[:, 0], X.iloc[:, 1], s=10, edgecolors=colors)\n",
        "    ax = plt.gca()\n",
        "    xlim = ax.get_xlim()\n",
        "    ylim = ax.get_ylim()\n",
        "\n",
        "    # Create grid to evaluate model\n",
        "    xx = np.linspace(xlim[0], xlim[1], 30)\n",
        "    yy = np.linspace(ylim[0], ylim[1], 30)\n",
        "    YY, XX = np.meshgrid(yy, xx)\n",
        "    xy = np.vstack([XX.ravel(), YY.ravel()]).T # xy.shape = (900, 2)\n",
        "        \n",
        "    Z = clf.decision_function(xy).reshape(XX.shape)\n",
        "    # clf.decision_function(xy).shape = (900,)\n",
        "    # Z.shape = (30, 30)\n",
        "\n",
        "    if  show_only_decision_function:\n",
        "    # Plot decision boundary\n",
        "        ax.contour(XX, YY, Z, colors='k', levels=[0], alpha=0.5,\n",
        "                 linestyles=['-'])\n",
        "    else :\n",
        "    # Plot decision boundary and margins\n",
        "        ax.contour(XX, YY, Z, colors='k', levels=[-1, 0, 1], alpha=0.5,\n",
        "                 linestyles=['--', '-', '--'])\n",
        "    # Plot support vectors\n",
        "    #ax.scatter(clf.support_vectors_[:, 0], clf.support_vectors_[:, 1], s = 10,\n",
        "    #         linewidth=1, facecolors='k', c = 'k', label='Support Vectors')\n",
        "\n",
        "    #plt.legend(fontsize='small')"
      ]
    },
    {
      "cell_type": "code",
      "execution_count": 15,
      "metadata": {
        "colab": {
          "base_uri": "https://localhost:8080/",
          "height": 298
        },
        "id": "Q-aQMjDQEuKl",
        "outputId": "39335f06-97a5-493c-ceef-7b5cfcdaa757"
      },
      "outputs": [
        {
          "data": {
            "image/png": "[encoded data removed]",
            "text/plain": [
              "<Figure size 432x288 with 1 Axes>"
            ]
          },
          "metadata": {
            "needs_background": "light"
          },
          "output_type": "display_data"
        }
      ],
      "source": [
        "pca = PCA(n_components=2)\n",
        "principal_components = pca.fit_transform(X)\n",
        "principal_df = pd.DataFrame(data = principal_components, columns = ['PCA_1', 'PCA_2'])\n",
        "principal_df.head()\n",
        "\n",
        "final_df = pd.concat([principal_df, df[['fraud']]], axis=1)\n",
        "\n",
        "clf = svm.OneClassSVM(nu=0.001, kernel='rbf', gamma=0.0001)\n",
        "clf.fit(principal_df, df['fraud'])\n",
        "\n",
        "# Data Visualization \n",
        "plt.figure(figsize=(6, 4))\n",
        "sns.scatterplot(final_df['PCA_1'], final_df['PCA_2'], hue=df['fraud'])\n",
        "plot_decision_function_helper(\n",
        "    principal_df, df['fraud'], clf, show_only_decision_function=False)\n"
      ]
    },
    {
      "cell_type": "markdown",
      "metadata": {
        "id": "2QA3wRCJftPa"
      },
      "source": [
        "## 1-SVM(OCSVM)"
      ]
    },
    {
      "cell_type": "code",
      "execution_count": 1,
      "metadata": {
        "id": "zqozYU0kEuFQ"
      },
      "outputs": [
        {
          "ename": "NameError",
          "evalue": "name 'train_test_split' is not defined",
          "output_type": "error",
          "traceback": [
            "\u001b[1;31m---------------------------------------------------------------------------\u001b[0m",
            "\u001b[1;31mNameError\u001b[0m                                 Traceback (most recent call last)",
            "\u001b[1;32mc:\\Users\\82109\\OneDrive\\바탕 화면\\Credit_Card_Fraud\\SVDD_01.ipynb 셀 17\u001b[0m in \u001b[0;36m<cell line: 9>\u001b[1;34m()\u001b[0m\n\u001b[0;32m      <a href='vscode-notebook-cell:/c%3A/Users/82109/OneDrive/%EB%B0%94%ED%83%95%20%ED%99%94%EB%A9%B4/Credit_Card_Fraud/SVDD_01.ipynb#X22sZmlsZQ%3D%3D?line=0'>1</a>\u001b[0m \u001b[39m# train과 test data를 0.005, 0.002 비율로 나눔. \u001b[39;00m\n\u001b[0;32m      <a href='vscode-notebook-cell:/c%3A/Users/82109/OneDrive/%EB%B0%94%ED%83%95%20%ED%99%94%EB%A9%B4/Credit_Card_Fraud/SVDD_01.ipynb#X22sZmlsZQ%3D%3D?line=1'>2</a>\u001b[0m \u001b[39m# SVDD를 이용\u001b[39;00m\n\u001b[0;32m      <a href='vscode-notebook-cell:/c%3A/Users/82109/OneDrive/%EB%B0%94%ED%83%95%20%ED%99%94%EB%A9%B4/Credit_Card_Fraud/SVDD_01.ipynb#X22sZmlsZQ%3D%3D?line=2'>3</a>\u001b[0m \u001b[39m# 램이 부족해서 세션이 계속 종료되어서, 데이터를 일부만 사용\u001b[39;00m\n\u001b[0;32m      <a href='vscode-notebook-cell:/c%3A/Users/82109/OneDrive/%EB%B0%94%ED%83%95%20%ED%99%94%EB%A9%B4/Credit_Card_Fraud/SVDD_01.ipynb#X22sZmlsZQ%3D%3D?line=3'>4</a>\u001b[0m \u001b[39m# 층화 무작위 추출을 통해 fraud 비율 유지\u001b[39;00m\n\u001b[0;32m      <a href='vscode-notebook-cell:/c%3A/Users/82109/OneDrive/%EB%B0%94%ED%83%95%20%ED%99%94%EB%A9%B4/Credit_Card_Fraud/SVDD_01.ipynb#X22sZmlsZQ%3D%3D?line=7'>8</a>\u001b[0m \u001b[39mfrom\u001b[39;00m \u001b[39mimblearn\u001b[39;00m\u001b[39m.\u001b[39;00m\u001b[39mover_sampling\u001b[39;00m \u001b[39mimport\u001b[39;00m SMOTE\n\u001b[1;32m----> <a href='vscode-notebook-cell:/c%3A/Users/82109/OneDrive/%EB%B0%94%ED%83%95%20%ED%99%94%EB%A9%B4/Credit_Card_Fraud/SVDD_01.ipynb#X22sZmlsZQ%3D%3D?line=8'>9</a>\u001b[0m X_train, X_test, y_train, y_test \u001b[39m=\u001b[39m train_test_split(X, y,train_size\u001b[39m=\u001b[39m\u001b[39m0.005\u001b[39m,test_size\u001b[39m=\u001b[39m\u001b[39m0.002\u001b[39m, random_state\u001b[39m=\u001b[39m\u001b[39m1004\u001b[39m, \n\u001b[0;32m     <a href='vscode-notebook-cell:/c%3A/Users/82109/OneDrive/%EB%B0%94%ED%83%95%20%ED%99%94%EB%A9%B4/Credit_Card_Fraud/SVDD_01.ipynb#X22sZmlsZQ%3D%3D?line=9'>10</a>\u001b[0m                                                     stratify\u001b[39m=\u001b[39mdf[\u001b[39m'\u001b[39m\u001b[39mfraud\u001b[39m\u001b[39m'\u001b[39m])\n\u001b[0;32m     <a href='vscode-notebook-cell:/c%3A/Users/82109/OneDrive/%EB%B0%94%ED%83%95%20%ED%99%94%EB%A9%B4/Credit_Card_Fraud/SVDD_01.ipynb#X22sZmlsZQ%3D%3D?line=11'>12</a>\u001b[0m \u001b[39m# imbalanced-learn 패키지\u001b[39;00m\n\u001b[0;32m     <a href='vscode-notebook-cell:/c%3A/Users/82109/OneDrive/%EB%B0%94%ED%83%95%20%ED%99%94%EB%A9%B4/Credit_Card_Fraud/SVDD_01.ipynb#X22sZmlsZQ%3D%3D?line=12'>13</a>\u001b[0m \u001b[39mprint\u001b[39m(\u001b[39m\"\u001b[39m\u001b[39mDisplaying data. Close window to continue.\u001b[39m\u001b[39m\"\u001b[39m)\n",
            "\u001b[1;31mNameError\u001b[0m: name 'train_test_split' is not defined"
          ]
        }
      ],
      "source": [
        "# train과 test data를 0.005, 0.002 비율로 나눔. \n",
        "# SVDD를 이용\n",
        "# 램이 부족해서 세션이 계속 종료되어서, 데이터를 일부만 사용\n",
        "# 층화 무작위 추출을 통해 fraud 비율 유지\n",
        "\n",
        "\n",
        "\n",
        "from imblearn.over_sampling import SMOTE\n",
        "X_train, X_test, y_train, y_test = train_test_split(X, y,train_size=0.005,test_size=0.002, random_state=1004, \n",
        "                                                    stratify=df['fraud'])\n",
        "\n",
        "# imbalanced-learn 패키지\n",
        "print(\"Displaying data. Close window to continue.\")\n",
        "plot_data(X_train, y_train, X_test, y_test)\n",
        "\n",
        "# 검증 데이터나 테스트 데이터가 아닌 학습데이터에서만 오버샘플링 사용할 것\n",
        "smote = SMOTE(random_state=11)\n",
        "X_train, y_train = smote.fit_resample(X_train, y_train)\n",
        "\n",
        "print(\"Displaying data after SMOTE. Close window to continue.\")\n",
        "# Plot data\n",
        "plot_data(X_train, y_train, X_test, y_test)\n"
      ]
    },
    {
      "cell_type": "code",
      "execution_count": 17,
      "metadata": {
        "colab": {
          "base_uri": "https://localhost:8080/"
        },
        "id": "2vJFgnZQPzuN",
        "outputId": "3f0c489b-0c0a-45ba-ff1c-17870ebb9582"
      },
      "outputs": [
        {
          "data": {
            "text/plain": [
              "0.0    4563\n",
              "1.0    4563\n",
              "Name: fraud, dtype: int64"
            ]
          },
          "execution_count": 17,
          "metadata": {},
          "output_type": "execute_result"
        }
      ],
      "source": [
        "#y_train 비율 확인.\n",
        "y_train.value_counts()"
      ]
    },
    {
      "cell_type": "code",
      "execution_count": 18,
      "metadata": {
        "id": "MP3Fo5Csf9rC"
      },
      "outputs": [],
      "source": [
        "# nu(=C): Hyperplane(sphere) 밖에 있는 데이터의 최대 비율\n",
        "# nu가 클수록, 즉 SV(support vector)가 많을 수록 penalty를 많이 먹여서, 정상영역을 원점에서부터 멀리 밀어낼 수 있다.\n",
        "# e.g: nu=0.9 -> 최대 0.9의 penalty를 부여하겠다.\n",
        "#      최대 90% 데이터를  전체 데이터의 abnormal이라고 가정하고 hyperplane을 나누겠다.\n",
        "#svdd에서 nu가 작을수록 원에 가깝고, nu가 클수록 구밖으로 나가는 noraml data가 많아진다.\n",
        "\n",
        "#gamma: Hyperplane(sphere)구성시 참조하는 거리로, gmmma가 클수록 주변 데이터를 SV로 보고, \n",
        "#       gamma가 작을수록 먼거리에 있는 데이터도 SV로 보고 계산함."
      ]
    },
    {
      "cell_type": "code",
      "execution_count": 19,
      "metadata": {
        "colab": {
          "base_uri": "https://localhost:8080/"
        },
        "id": "bwd6utexEuCk",
        "outputId": "fd1ebec2-8030-4af1-cab2-f9509024d3f3"
      },
      "outputs": [],
      "source": [
        "clf = svm.OneClassSVM(nu=0.001, kernel='rbf', gamma=0.0001)\n",
        "#clf = svm.SVC(C=0.001, kernel='rbf', gamma=0.0001)\n",
        "#clf.fit(X_train)"
      ]
    },
    {
      "cell_type": "code",
      "execution_count": 20,
      "metadata": {},
      "outputs": [
        {
          "name": "stdout",
          "output_type": "stream",
          "text": [
            "Displaying decision function. Close window to continue.\n"
          ]
        }
      ],
      "source": [
        "clf.fit(X_train, y_train)\n",
        "\n",
        "print(\"Displaying decision function. Close window to continue.\")\n",
        "# Plot decision function on training and test data\n",
        "# plot_decision_function(X_train, y_train, X_test, y_test, clf)\n",
        "\n",
        "# Make predictions on unseen test data\n",
        "clf_predictions = clf.predict(X_test)\n",
        "# print(\"Accuracy: {}%\".format(clf.score(X_test, y_test) * 100))"
      ]
    },
    {
      "cell_type": "code",
      "execution_count": 21,
      "metadata": {},
      "outputs": [
        {
          "name": "stdout",
          "output_type": "stream",
          "text": [
            "Performing grid search ... \n",
            "Fitting 5 folds for each of 36 candidates, totalling 180 fits\n",
            "Best Parameters:\n",
            " {'gamma': 1e-05, 'nu': 0.001}\n",
            "Best Estimators:\n",
            " OneClassSVM(gamma=1e-05, nu=0.001)\n",
            "Displaying decision function for best estimator.\n"
          ]
        }
      ],
      "source": [
        "# Grid Search\n",
        "print(\"Performing grid search ... \")\n",
        "\n",
        "# Parameter Grid\n",
        "#param_grid = {'C': [0.1, 1, 10, 100], 'gamma': [1, 0.1, 0.01, 0.001, 0.00001, 10]}\n",
        "param_grid = {'nu': [0.0001, 0.001, 0.01, 0.1, 0.5, 0.99], 'gamma': [\n",
        "    1, 0.1, 0.01, 0.001, 0.00001, 10]}\n",
        "\n",
        "# Make grid search classifier\n",
        "clf_grid = GridSearchCV(svm.OneClassSVM(), param_grid,\n",
        "                        verbose=1, scoring=\"accuracy\")\n",
        "\n",
        "# Train the classifier\n",
        "clf_grid.fit(X_train, y_train)\n",
        "\n",
        "# clf = grid.best_estimator_()\n",
        "print(\"Best Parameters:\\n\", clf_grid.best_params_)\n",
        "print(\"Best Estimators:\\n\", clf_grid.best_estimator_)\n",
        "\n",
        "print(\"Displaying decision function for best estimator.\")\n",
        "# Plot decision function on training and test data\n",
        "#plot_decision_function(X_train, y_train, X_test, y_test, clf_grid)"
      ]
    },
    {
      "cell_type": "code",
      "execution_count": 22,
      "metadata": {
        "colab": {
          "base_uri": "https://localhost:8080/"
        },
        "id": "FwMFwGtHXxre",
        "outputId": "c264311e-d6b4-4735-d6da-b3a5b003a524"
      },
      "outputs": [
        {
          "data": {
            "text/plain": [
              "519257    0.0\n",
              "604953    1.0\n",
              "998579    0.0\n",
              "210446    0.0\n",
              "366762    1.0\n",
              "         ... \n",
              "361993    0.0\n",
              "958644    0.0\n",
              "824354    0.0\n",
              "781668    0.0\n",
              "440169    0.0\n",
              "Name: fraud, Length: 2000, dtype: float64"
            ]
          },
          "execution_count": 22,
          "metadata": {},
          "output_type": "execute_result"
        }
      ],
      "source": [
        "y_test"
      ]
    },
    {
      "cell_type": "code",
      "execution_count": 23,
      "metadata": {
        "id": "uNXa81IoWrCv"
      },
      "outputs": [],
      "source": [
        "y_pred_train=clf.predict(X_train)"
      ]
    },
    {
      "cell_type": "code",
      "execution_count": 24,
      "metadata": {
        "colab": {
          "base_uri": "https://localhost:8080/",
          "height": 423
        },
        "id": "LxiLvf9-Et_n",
        "outputId": "d46f46b2-3242-46fc-8292-07bc4278d63d"
      },
      "outputs": [
        {
          "data": {
            "text/html": [
              "<div>\n",
              "<style scoped>\n",
              "    .dataframe tbody tr th:only-of-type {\n",
              "        vertical-align: middle;\n",
              "    }\n",
              "\n",
              "    .dataframe tbody tr th {\n",
              "        vertical-align: top;\n",
              "    }\n",
              "\n",
              "    .dataframe thead th {\n",
              "        text-align: right;\n",
              "    }\n",
              "</style>\n",
              "<table border=\"1\" class=\"dataframe\">\n",
              "  <thead>\n",
              "    <tr style=\"text-align: right;\">\n",
              "      <th></th>\n",
              "      <th>0</th>\n",
              "    </tr>\n",
              "  </thead>\n",
              "  <tbody>\n",
              "    <tr>\n",
              "      <th>0</th>\n",
              "      <td>0</td>\n",
              "    </tr>\n",
              "    <tr>\n",
              "      <th>1</th>\n",
              "      <td>0</td>\n",
              "    </tr>\n",
              "    <tr>\n",
              "      <th>2</th>\n",
              "      <td>0</td>\n",
              "    </tr>\n",
              "    <tr>\n",
              "      <th>3</th>\n",
              "      <td>0</td>\n",
              "    </tr>\n",
              "    <tr>\n",
              "      <th>4</th>\n",
              "      <td>0</td>\n",
              "    </tr>\n",
              "    <tr>\n",
              "      <th>...</th>\n",
              "      <td>...</td>\n",
              "    </tr>\n",
              "    <tr>\n",
              "      <th>1995</th>\n",
              "      <td>0</td>\n",
              "    </tr>\n",
              "    <tr>\n",
              "      <th>1996</th>\n",
              "      <td>0</td>\n",
              "    </tr>\n",
              "    <tr>\n",
              "      <th>1997</th>\n",
              "      <td>0</td>\n",
              "    </tr>\n",
              "    <tr>\n",
              "      <th>1998</th>\n",
              "      <td>0</td>\n",
              "    </tr>\n",
              "    <tr>\n",
              "      <th>1999</th>\n",
              "      <td>0</td>\n",
              "    </tr>\n",
              "  </tbody>\n",
              "</table>\n",
              "<p>2000 rows × 1 columns</p>\n",
              "</div>"
            ],
            "text/plain": [
              "      0\n",
              "0     0\n",
              "1     0\n",
              "2     0\n",
              "3     0\n",
              "4     0\n",
              "...  ..\n",
              "1995  0\n",
              "1996  0\n",
              "1997  0\n",
              "1998  0\n",
              "1999  0\n",
              "\n",
              "[2000 rows x 1 columns]"
            ]
          },
          "execution_count": 24,
          "metadata": {},
          "output_type": "execute_result"
        }
      ],
      "source": [
        "y_pred_test=clf.predict(X_test)\n",
        "y_pred_test=pd.DataFrame(y_pred_test)\n",
        "y_pred_test=y_pred_test.replace({-1: 1, 1: 0})\n",
        "y_pred_test"
      ]
    },
    {
      "cell_type": "code",
      "execution_count": 25,
      "metadata": {
        "colab": {
          "base_uri": "https://localhost:8080/"
        },
        "id": "FMv5bKYudIni",
        "outputId": "8f37e477-b7e7-4e00-fd12-21952dc26a3f"
      },
      "outputs": [
        {
          "name": "stdout",
          "output_type": "stream",
          "text": [
            "0.915\n",
            "0.05714285714285714\n",
            "0.6666666666666666\n",
            "0.10526315789473684\n"
          ]
        }
      ],
      "source": [
        "print(accuracy_score(y_pred_test,y_test))\n",
        "print(precision_score(y_pred_test, y_test))\n",
        "print(recall_score(y_pred_test, y_test))\n",
        "print(f1_score(y_pred_test, y_test))\n"
      ]
    },
    {
      "cell_type": "code",
      "execution_count": 26,
      "metadata": {
        "colab": {
          "base_uri": "https://localhost:8080/",
          "height": 297
        },
        "id": "GGjbqrdFEt83",
        "outputId": "de0f3450-317c-4eed-92e8-6c980c283c9b"
      },
      "outputs": [
        {
          "data": {
            "text/plain": [
              "Text(0.5, 15.0, 'Predicted')"
            ]
          },
          "execution_count": 26,
          "metadata": {},
          "output_type": "execute_result"
        },
        {
          "data": {
            "image/png": "[encoded data removed]",
            "text/plain": [
              "<Figure size 432x288 with 2 Axes>"
            ]
          },
          "metadata": {
            "needs_background": "light"
          },
          "output_type": "display_data"
        }
      ],
      "source": [
        "con_mat = confusion_matrix(y_test, y_pred_test)\n",
        "\n",
        "sns.heatmap(pd.DataFrame(con_mat, columns = ['Predicted', 'Actual']),\n",
        "            xticklabels=['Normal [0]', 'Abnormal [1]'], \n",
        "            yticklabels=['Normal [0]', 'Abnormal [1]'], \n",
        "            annot=True, fmt=\"d\", linewidths=.5, cmap=\"YlGnBu\")\n",
        "plt.ylabel('Actual')\n",
        "plt.xlabel('Predicted')"
      ]
    },
    {
      "cell_type": "markdown",
      "metadata": {
        "id": "QfVvZVO8l9gd"
      },
      "source": [
        "## SVDD(Suport Vector Data Description)"
      ]
    },
    {
      "cell_type": "code",
      "execution_count": 27,
      "metadata": {
        "id": "9ZN2ZH_UcO1h"
      },
      "outputs": [],
      "source": [
        "from BaseSVDD import BaseSVDD"
      ]
    },
    {
      "cell_type": "code",
      "execution_count": 28,
      "metadata": {
        "id": "9k9GHICV0zVF"
      },
      "outputs": [],
      "source": [
        "svdd=BaseSVDD(C=0.001, gamma=0.0001, kernel='rbf',display='on')"
      ]
    },
    {
      "cell_type": "code",
      "execution_count": 29,
      "metadata": {
        "id": "p-bBqibr1Sih"
      },
      "outputs": [],
      "source": [
        "X_train_forSVDD=X_train.to_numpy()"
      ]
    },
    {
      "cell_type": "code",
      "execution_count": 30,
      "metadata": {
        "colab": {
          "base_uri": "https://localhost:8080/"
        },
        "id": "Ko3tQSEgz_7z",
        "outputId": "be78413b-08ad-47e0-eb98-6e2f248a8a88"
      },
      "outputs": [
        {
          "name": "stdout",
          "output_type": "stream",
          "text": [
            "\n",
            "\n",
            "*** Fitting of the SVDD model is completed. ***\n",
            "\n",
            "running time         = 352.4316 seconds\n",
            "kernel function      = rbf\n",
            "iterations           = 29\n",
            "number of samples    = 9126\n",
            "number of features   = 7\n",
            "number of SVs        = 1006\n",
            "ratio of SVs         = 11.0234 %\n",
            "accuracy             = 96.3949 %\n",
            "\n",
            "\n"
          ]
        },
        {
          "data": {
            "text/html": [
              "<style>#sk-container-id-1 {color: black;background-color: white;}#sk-container-id-1 pre{padding: 0;}#sk-container-id-1 div.sk-toggleable {background-color: white;}#sk-container-id-1 label.sk-toggleable__label {cursor: pointer;display: block;width: 100%;margin-bottom: 0;padding: 0.3em;box-sizing: border-box;text-align: center;}#sk-container-id-1 label.sk-toggleable__label-arrow:before {content: \"▸\";float: left;margin-right: 0.25em;color: #696969;}#sk-container-id-1 label.sk-toggleable__label-arrow:hover:before {color: black;}#sk-container-id-1 div.sk-estimator:hover label.sk-toggleable__label-arrow:before {color: black;}#sk-container-id-1 div.sk-toggleable__content {max-height: 0;max-width: 0;overflow: hidden;text-align: left;background-color: #f0f8ff;}#sk-container-id-1 div.sk-toggleable__content pre {margin: 0.2em;color: black;border-radius: 0.25em;background-color: #f0f8ff;}#sk-container-id-1 input.sk-toggleable__control:checked~div.sk-toggleable__content {max-height: 200px;max-width: 100%;overflow: auto;}#sk-container-id-1 input.sk-toggleable__control:checked~label.sk-toggleable__label-arrow:before {content: \"▾\";}#sk-container-id-1 div.sk-estimator input.sk-toggleable__control:checked~label.sk-toggleable__label {background-color: #d4ebff;}#sk-container-id-1 div.sk-label input.sk-toggleable__control:checked~label.sk-toggleable__label {background-color: #d4ebff;}#sk-container-id-1 input.sk-hidden--visually {border: 0;clip: rect(1px 1px 1px 1px);clip: rect(1px, 1px, 1px, 1px);height: 1px;margin: -1px;overflow: hidden;padding: 0;position: absolute;width: 1px;}#sk-container-id-1 div.sk-estimator {font-family: monospace;background-color: #f0f8ff;border: 1px dotted black;border-radius: 0.25em;box-sizing: border-box;margin-bottom: 0.5em;}#sk-container-id-1 div.sk-estimator:hover {background-color: #d4ebff;}#sk-container-id-1 div.sk-parallel-item::after {content: \"\";width: 100%;border-bottom: 1px solid gray;flex-grow: 1;}#sk-container-id-1 div.sk-label:hover label.sk-toggleable__label {background-color: #d4ebff;}#sk-container-id-1 div.sk-serial::before {content: \"\";position: absolute;border-left: 1px solid gray;box-sizing: border-box;top: 0;bottom: 0;left: 50%;z-index: 0;}#sk-container-id-1 div.sk-serial {display: flex;flex-direction: column;align-items: center;background-color: white;padding-right: 0.2em;padding-left: 0.2em;position: relative;}#sk-container-id-1 div.sk-item {position: relative;z-index: 1;}#sk-container-id-1 div.sk-parallel {display: flex;align-items: stretch;justify-content: center;background-color: white;position: relative;}#sk-container-id-1 div.sk-item::before, #sk-container-id-1 div.sk-parallel-item::before {content: \"\";position: absolute;border-left: 1px solid gray;box-sizing: border-box;top: 0;bottom: 0;left: 50%;z-index: -1;}#sk-container-id-1 div.sk-parallel-item {display: flex;flex-direction: column;z-index: 1;position: relative;background-color: white;}#sk-container-id-1 div.sk-parallel-item:first-child::after {align-self: flex-end;width: 50%;}#sk-container-id-1 div.sk-parallel-item:last-child::after {align-self: flex-start;width: 50%;}#sk-container-id-1 div.sk-parallel-item:only-child::after {width: 0;}#sk-container-id-1 div.sk-dashed-wrapped {border: 1px dashed gray;margin: 0 0.4em 0.5em 0.4em;box-sizing: border-box;padding-bottom: 0.4em;background-color: white;}#sk-container-id-1 div.sk-label label {font-family: monospace;font-weight: bold;display: inline-block;line-height: 1.2em;}#sk-container-id-1 div.sk-label-container {text-align: center;}#sk-container-id-1 div.sk-container {/* jupyter's `normalize.less` sets `[hidden] { display: none; }` but bootstrap.min.css set `[hidden] { display: none !important; }` so we also need the `!important` here to be able to override the default hidden behavior on the sphinx rendered scikit-learn.org. See: https://github.com/scikit-learn/scikit-learn/issues/21755 */display: inline-block !important;position: relative;}#sk-container-id-1 div.sk-text-repr-fallback {display: none;}</style><div id=\"sk-container-id-1\" class=\"sk-top-container\"><div class=\"sk-text-repr-fallback\"><pre>BaseSVDD(C=[0.001, 1], gamma=0.0001)</pre><b>In a Jupyter environment, please rerun this cell to show the HTML representation or trust the notebook. <br />On GitHub, the HTML representation is unable to render, please try loading this page with nbviewer.org.</b></div><div class=\"sk-container\" hidden><div class=\"sk-item\"><div class=\"sk-estimator sk-toggleable\"><input class=\"sk-toggleable__control sk-hidden--visually\" id=\"sk-estimator-id-1\" type=\"checkbox\" checked><label for=\"sk-estimator-id-1\" class=\"sk-toggleable__label sk-toggleable__label-arrow\">BaseSVDD</label><div class=\"sk-toggleable__content\"><pre>BaseSVDD(C=[0.001, 1], gamma=0.0001)</pre></div></div></div></div></div>"
            ],
            "text/plain": [
              "BaseSVDD(C=[0.001, 1], gamma=0.0001)"
            ]
          },
          "execution_count": 30,
          "metadata": {},
          "output_type": "execute_result"
        }
      ],
      "source": []
    },
    {
      "cell_type": "code",
      "execution_count": 31,
      "metadata": {
        "colab": {
          "base_uri": "https://localhost:8080/"
        },
        "id": "ZCsU9qUBz_4t",
        "outputId": "bf9cc344-eac3-40b1-e0e6-f764aaea8390"
      },
      "outputs": [
        {
          "name": "stdout",
          "output_type": "stream",
          "text": [
            "\n",
            "\n",
            "*** Prediction of the provided data is completed. ***\n",
            "\n",
            "running time         = 3.1437 seconds\n",
            "number of samples    = 9126\n",
            "number of alarm      = 329\n",
            "\n",
            "\n"
          ]
        }
      ],
      "source": [
        "y_pred_train_forSVDD=svdd.predict(X_train_forSVDD)"
      ]
    },
    {
      "cell_type": "code",
      "execution_count": 32,
      "metadata": {
        "colab": {
          "base_uri": "https://localhost:8080/",
          "height": 585
        },
        "id": "I91FUwR5z_12",
        "outputId": "0a048041-0369-4ad6-bc01-75756272b7b5"
      },
      "outputs": [
        {
          "name": "stdout",
          "output_type": "stream",
          "text": [
            "\n",
            "\n",
            "*** Prediction of the provided data is completed. ***\n",
            "\n",
            "running time         = 0.5029 seconds\n",
            "number of samples    = 2000\n",
            "number of alarm      = 31\n",
            "\n",
            "\n"
          ]
        },
        {
          "data": {
            "text/html": [
              "<div>\n",
              "<style scoped>\n",
              "    .dataframe tbody tr th:only-of-type {\n",
              "        vertical-align: middle;\n",
              "    }\n",
              "\n",
              "    .dataframe tbody tr th {\n",
              "        vertical-align: top;\n",
              "    }\n",
              "\n",
              "    .dataframe thead th {\n",
              "        text-align: right;\n",
              "    }\n",
              "</style>\n",
              "<table border=\"1\" class=\"dataframe\">\n",
              "  <thead>\n",
              "    <tr style=\"text-align: right;\">\n",
              "      <th></th>\n",
              "      <th>0</th>\n",
              "    </tr>\n",
              "  </thead>\n",
              "  <tbody>\n",
              "    <tr>\n",
              "      <th>0</th>\n",
              "      <td>0.0</td>\n",
              "    </tr>\n",
              "    <tr>\n",
              "      <th>1</th>\n",
              "      <td>1.0</td>\n",
              "    </tr>\n",
              "    <tr>\n",
              "      <th>2</th>\n",
              "      <td>0.0</td>\n",
              "    </tr>\n",
              "    <tr>\n",
              "      <th>3</th>\n",
              "      <td>0.0</td>\n",
              "    </tr>\n",
              "    <tr>\n",
              "      <th>4</th>\n",
              "      <td>0.0</td>\n",
              "    </tr>\n",
              "    <tr>\n",
              "      <th>...</th>\n",
              "      <td>...</td>\n",
              "    </tr>\n",
              "    <tr>\n",
              "      <th>1995</th>\n",
              "      <td>0.0</td>\n",
              "    </tr>\n",
              "    <tr>\n",
              "      <th>1996</th>\n",
              "      <td>0.0</td>\n",
              "    </tr>\n",
              "    <tr>\n",
              "      <th>1997</th>\n",
              "      <td>0.0</td>\n",
              "    </tr>\n",
              "    <tr>\n",
              "      <th>1998</th>\n",
              "      <td>0.0</td>\n",
              "    </tr>\n",
              "    <tr>\n",
              "      <th>1999</th>\n",
              "      <td>0.0</td>\n",
              "    </tr>\n",
              "  </tbody>\n",
              "</table>\n",
              "<p>2000 rows × 1 columns</p>\n",
              "</div>"
            ],
            "text/plain": [
              "        0\n",
              "0     0.0\n",
              "1     1.0\n",
              "2     0.0\n",
              "3     0.0\n",
              "4     0.0\n",
              "...   ...\n",
              "1995  0.0\n",
              "1996  0.0\n",
              "1997  0.0\n",
              "1998  0.0\n",
              "1999  0.0\n",
              "\n",
              "[2000 rows x 1 columns]"
            ]
          },
          "execution_count": 32,
          "metadata": {},
          "output_type": "execute_result"
        }
      ],
      "source": [
        "X_test_forSVDD=X_test.to_numpy()\n",
        "y_pred_test_forSVDD=svdd.predict(X_test_forSVDD)\n",
        "y_pred_test_forSVDD=pd.DataFrame(y_pred_test_forSVDD)\n",
        "y_pred_test_forSVDD=y_pred_test_forSVDD.replace({-1: 1, 1: 0})\n",
        "y_pred_test_forSVDD"
      ]
    },
    {
      "cell_type": "code",
      "execution_count": 33,
      "metadata": {},
      "outputs": [
        {
          "name": "stdout",
          "output_type": "stream",
          "text": [
            "0.911\n",
            "0.08\n",
            "0.45161290322580644\n",
            "0.13592233009708737\n"
          ]
        }
      ],
      "source": [
        "print(accuracy_score(y_pred_test_forSVDD, y_test))\n",
        "print(precision_score(y_pred_test_forSVDD, y_test))\n",
        "print(recall_score(y_pred_test_forSVDD, y_test))\n",
        "print(f1_score(y_pred_test_forSVDD, y_test))\n"
      ]
    },
    {
      "cell_type": "code",
      "execution_count": 34,
      "metadata": {
        "colab": {
          "base_uri": "https://localhost:8080/",
          "height": 297
        },
        "id": "sx3OSt-cz_zE",
        "outputId": "e612280b-e4cf-4a45-d37e-3df3a4374049"
      },
      "outputs": [
        {
          "data": {
            "text/plain": [
              "Text(0.5, 15.0, 'Predicted')"
            ]
          },
          "execution_count": 34,
          "metadata": {},
          "output_type": "execute_result"
        },
        {
          "data": {
            "image/png": "[encoded data removed]",
            "text/plain": [
              "<Figure size 432x288 with 2 Axes>"
            ]
          },
          "metadata": {
            "needs_background": "light"
          },
          "output_type": "display_data"
        }
      ],
      "source": [
        "con_mat = confusion_matrix(y_test, y_pred_test_forSVDD)\n",
        "\n",
        "sns.heatmap(pd.DataFrame(con_mat, columns = ['Predicted', 'Actual']),\n",
        "            xticklabels=['Normal [0]', 'Abnormal [1]'], \n",
        "            yticklabels=['Normal [0]', 'Abnormal [1]'], \n",
        "            annot=True, fmt=\"d\", linewidths=.5, cmap=\"YlGnBu\")\n",
        "plt.ylabel('Actual')\n",
        "plt.xlabel('Predicted')"
      ]
    },
    {
      "cell_type": "code",
      "execution_count": null,
      "metadata": {
        "id": "KYHnH9mMz_vo"
      },
      "outputs": [],
      "source": []
    },
    {
      "cell_type": "code",
      "execution_count": null,
      "metadata": {
        "id": "ikOst8jIRO_E"
      },
      "outputs": [],
      "source": []
    },
    {
      "cell_type": "code",
      "execution_count": null,
      "metadata": {
        "id": "DbfCdr8nRO6C"
      },
      "outputs": [],
      "source": []
    },
    {
      "cell_type": "code",
      "execution_count": null,
      "metadata": {
        "id": "6KfDXKyARO3d"
      },
      "outputs": [],
      "source": []
    },
    {
      "cell_type": "code",
      "execution_count": null,
      "metadata": {
        "id": "lqJ_LyApRO0_"
      },
      "outputs": [],
      "source": []
    },
    {
      "cell_type": "code",
      "execution_count": null,
      "metadata": {
        "id": "-h8nJ27LROya"
      },
      "outputs": [],
      "source": []
    },
    {
      "cell_type": "code",
      "execution_count": null,
      "metadata": {
        "id": "DAWdOc8kROwC"
      },
      "outputs": [],
      "source": []
    },
    {
      "cell_type": "code",
      "execution_count": null,
      "metadata": {
        "id": "9qdg_08uROth"
      },
      "outputs": [],
      "source": []
    }
  ],
  "metadata": {
    "colab": {
      "collapsed_sections": [],
      "provenance": []
    },
    "kernelspec": {
      "display_name": "Python 3.10.2 64-bit",
      "language": "python",
      "name": "python3"
    },
    "language_info": {
      "codemirror_mode": {
        "name": "ipython",
        "version": 3
      },
      "file_extension": ".py",
      "mimetype": "text/x-python",
      "name": "python",
      "nbconvert_exporter": "python",
      "pygments_lexer": "ipython3",
      "version": "3.10.2"
    },
    "vscode": {
      "interpreter": {
        "hash": "10946f1136008912e201537a54b2bdd08d3a70fab0287de4279daa01808ba4b5"
      }
    }
  },
  "nbformat": 4,
  "nbformat_minor": 0
}
